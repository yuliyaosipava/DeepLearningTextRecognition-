{
  "metadata": {
    "kernelspec": {
      "language": "python",
      "display_name": "Python 3",
      "name": "python3"
    },
    "language_info": {
      "name": "python",
      "version": "3.11.11",
      "mimetype": "text/x-python",
      "codemirror_mode": {
        "name": "ipython",
        "version": 3
      },
      "pygments_lexer": "ipython3",
      "nbconvert_exporter": "python",
      "file_extension": ".py"
    },
    "kaggle": {
      "accelerator": "none",
      "dataSources": [
        {
          "sourceId": 99807,
          "databundleVersionId": 11970628,
          "sourceType": "competition"
        }
      ],
      "dockerImageVersionId": 31012,
      "isInternetEnabled": true,
      "language": "python",
      "sourceType": "notebook",
      "isGpuEnabled": false
    },
    "colab": {
      "name": "The Naivest Baseline",
      "provenance": [],
      "include_colab_link": true
    }
  },
  "nbformat_minor": 0,
  "nbformat": 4,
  "cells": [
    {
      "cell_type": "markdown",
      "metadata": {
        "id": "view-in-github",
        "colab_type": "text"
      },
      "source": [
        "<a href=\"https://colab.research.google.com/github/yuliyaosipava/DeepLearningTextRecognition-/blob/main/The_Naivest_Baseline.ipynb\" target=\"_parent\"><img src=\"https://colab.research.google.com/assets/colab-badge.svg\" alt=\"Open In Colab\"/></a>"
      ]
    },
    {
      "source": [
        "# IMPORTANT: SOME KAGGLE DATA SOURCES ARE PRIVATE\n",
        "# RUN THIS CELL IN ORDER TO IMPORT YOUR KAGGLE DATA SOURCES.\n",
        "import kagglehub\n",
        "kagglehub.login()\n"
      ],
      "metadata": {
        "id": "F713_PMwT2LB"
      },
      "cell_type": "code",
      "outputs": [],
      "execution_count": null
    },
    {
      "source": [
        "# IMPORTANT: RUN THIS CELL IN ORDER TO IMPORT YOUR KAGGLE DATA SOURCES,\n",
        "# THEN FEEL FREE TO DELETE THIS CELL.\n",
        "# NOTE: THIS NOTEBOOK ENVIRONMENT DIFFERS FROM KAGGLE'S PYTHON\n",
        "# ENVIRONMENT SO THERE MAY BE MISSING LIBRARIES USED BY YOUR\n",
        "# NOTEBOOK.\n",
        "\n",
        "21vek_query_classification_path = kagglehub.competition_download('21vek-query-classification')\n",
        "\n",
        "print('Data source import complete.')\n"
      ],
      "metadata": {
        "id": "JtDMPx-XT2LD"
      },
      "cell_type": "code",
      "outputs": [],
      "execution_count": null
    },
    {
      "cell_type": "code",
      "source": [
        "import pandas as pd\n",
        "import matplotlib.pyplot as plt\n",
        "from sklearn.feature_extraction.text import TfidfVectorizer\n",
        "from sklearn.pipeline import Pipeline\n",
        "from sklearn.naive_bayes import MultinomialNB"
      ],
      "metadata": {
        "_uuid": "8f2839f25d086af736a60e9eeb907d3b93b6e0e5",
        "_cell_guid": "b1076dfc-b9ad-4769-8c92-a6c4dae69d19",
        "trusted": true,
        "execution": {
          "iopub.status.busy": "2025-04-23T13:35:24.749804Z",
          "iopub.execute_input": "2025-04-23T13:35:24.750112Z",
          "iopub.status.idle": "2025-04-23T13:35:24.755392Z",
          "shell.execute_reply.started": "2025-04-23T13:35:24.750089Z",
          "shell.execute_reply": "2025-04-23T13:35:24.754208Z"
        },
        "id": "Rfo3KBMCT2LE"
      },
      "outputs": [],
      "execution_count": null
    },
    {
      "cell_type": "code",
      "source": [
        "cats_df = pd.read_csv('/kaggle/input/21vek-query-classification/categories.csv')\n",
        "train_df = pd.read_csv('/kaggle/input/21vek-query-classification/train.csv')\n",
        "test_df = pd.read_csv('/kaggle/input/21vek-query-classification/test.csv')"
      ],
      "metadata": {
        "trusted": true,
        "execution": {
          "iopub.status.busy": "2025-04-23T13:38:20.430725Z",
          "iopub.execute_input": "2025-04-23T13:38:20.431009Z",
          "iopub.status.idle": "2025-04-23T13:38:20.469648Z",
          "shell.execute_reply.started": "2025-04-23T13:38:20.430989Z",
          "shell.execute_reply": "2025-04-23T13:38:20.468759Z"
        },
        "id": "Jejo3D9fT2LF"
      },
      "outputs": [],
      "execution_count": null
    },
    {
      "cell_type": "code",
      "source": [
        "cats_df"
      ],
      "metadata": {
        "trusted": true,
        "execution": {
          "iopub.status.busy": "2025-04-23T13:38:24.600678Z",
          "iopub.execute_input": "2025-04-23T13:38:24.601061Z",
          "iopub.status.idle": "2025-04-23T13:38:24.610765Z",
          "shell.execute_reply.started": "2025-04-23T13:38:24.601033Z",
          "shell.execute_reply": "2025-04-23T13:38:24.609968Z"
        },
        "id": "Npccl8GNT2LF"
      },
      "outputs": [],
      "execution_count": null
    },
    {
      "cell_type": "code",
      "source": [
        "train_df = train_df.merge(cats_df, on='CategoryID', how='left')\n",
        "train_df"
      ],
      "metadata": {
        "trusted": true,
        "execution": {
          "iopub.status.busy": "2025-04-23T13:39:36.849436Z",
          "iopub.execute_input": "2025-04-23T13:39:36.85013Z",
          "iopub.status.idle": "2025-04-23T13:39:36.86438Z",
          "shell.execute_reply.started": "2025-04-23T13:39:36.8501Z",
          "shell.execute_reply": "2025-04-23T13:39:36.863434Z"
        },
        "id": "xg2NItFeT2LG"
      },
      "outputs": [],
      "execution_count": null
    },
    {
      "cell_type": "code",
      "source": [
        "test_df"
      ],
      "metadata": {
        "trusted": true,
        "execution": {
          "iopub.status.busy": "2025-04-23T13:33:23.748368Z",
          "iopub.execute_input": "2025-04-23T13:33:23.748694Z",
          "iopub.status.idle": "2025-04-23T13:33:23.760922Z",
          "shell.execute_reply.started": "2025-04-23T13:33:23.748669Z",
          "shell.execute_reply": "2025-04-23T13:33:23.760146Z"
        },
        "id": "_HVPfllTT2LG"
      },
      "outputs": [],
      "execution_count": null
    },
    {
      "cell_type": "code",
      "source": [
        "fig, ax = plt.subplots(1,1, figsize=(10, 5))\n",
        "train_df.groupby('CategoryName').Query.count().sort_values().plot.bar(x='CategoryName', y='Query')\n",
        "plt.xticks(rotation=90)\n",
        "plt.show()"
      ],
      "metadata": {
        "trusted": true,
        "execution": {
          "iopub.status.busy": "2025-04-23T13:39:50.284981Z",
          "iopub.execute_input": "2025-04-23T13:39:50.285327Z",
          "iopub.status.idle": "2025-04-23T13:39:50.919749Z",
          "shell.execute_reply.started": "2025-04-23T13:39:50.2853Z",
          "shell.execute_reply": "2025-04-23T13:39:50.918653Z"
        },
        "id": "fvrdrdG9T2LW"
      },
      "outputs": [],
      "execution_count": null
    },
    {
      "cell_type": "code",
      "source": [
        "model = Pipeline([\n",
        "    ('tfidf', TfidfVectorizer()),\n",
        "    ('clf', MultinomialNB())\n",
        "])\n",
        "model.fit(train_df['Query'], train_df['CategoryID'])"
      ],
      "metadata": {
        "trusted": true,
        "execution": {
          "iopub.status.busy": "2025-04-23T13:26:38.274712Z",
          "iopub.execute_input": "2025-04-23T13:26:38.275015Z",
          "iopub.status.idle": "2025-04-23T13:26:38.495662Z",
          "shell.execute_reply.started": "2025-04-23T13:26:38.274994Z",
          "shell.execute_reply": "2025-04-23T13:26:38.494732Z"
        },
        "id": "8Yc-UuXBT2LW"
      },
      "outputs": [],
      "execution_count": null
    },
    {
      "cell_type": "code",
      "source": [
        "test_df['CategoryID'] = model.predict(test_df['Query'])\n",
        "test_df[['ID', 'CategoryID']].to_csv('The_Naivest_Baseline.csv', index=None)"
      ],
      "metadata": {
        "trusted": true,
        "execution": {
          "iopub.status.busy": "2025-04-23T13:41:19.243732Z",
          "iopub.execute_input": "2025-04-23T13:41:19.244008Z",
          "iopub.status.idle": "2025-04-23T13:41:19.289244Z",
          "shell.execute_reply.started": "2025-04-23T13:41:19.243988Z",
          "shell.execute_reply": "2025-04-23T13:41:19.288241Z"
        },
        "id": "SROImV-OT2LW"
      },
      "outputs": [],
      "execution_count": null
    },
    {
      "cell_type": "code",
      "source": [
        "fig, ax = plt.subplots(1,1, figsize=(10, 5))\n",
        "df = test_df.merge(cats_df, on='CategoryID', how='left')\n",
        "df.groupby('CategoryName').Query.count().sort_values().plot.bar(x='CategoryName', y='Query')\n",
        "plt.xticks(rotation=90)\n",
        "plt.show()"
      ],
      "metadata": {
        "trusted": true,
        "execution": {
          "iopub.status.busy": "2025-04-23T13:42:21.720654Z",
          "iopub.execute_input": "2025-04-23T13:42:21.721002Z",
          "iopub.status.idle": "2025-04-23T13:42:22.1413Z",
          "shell.execute_reply.started": "2025-04-23T13:42:21.720974Z",
          "shell.execute_reply": "2025-04-23T13:42:22.140133Z"
        },
        "id": "pnfGJW_6T2LX"
      },
      "outputs": [],
      "execution_count": null
    }
  ]
}